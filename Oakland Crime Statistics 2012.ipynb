{
 "cells": [
  {
   "cell_type": "code",
   "execution_count": 1,
   "id": "f9b7c9e8",
   "metadata": {},
   "outputs": [
    {
     "data": {
      "text/html": [
       "<div>\n",
       "<style scoped>\n",
       "    .dataframe tbody tr th:only-of-type {\n",
       "        vertical-align: middle;\n",
       "    }\n",
       "\n",
       "    .dataframe tbody tr th {\n",
       "        vertical-align: top;\n",
       "    }\n",
       "\n",
       "    .dataframe thead th {\n",
       "        text-align: right;\n",
       "    }\n",
       "</style>\n",
       "<table border=\"1\" class=\"dataframe\">\n",
       "  <thead>\n",
       "    <tr style=\"text-align: right;\">\n",
       "      <th></th>\n",
       "      <th>Create Time</th>\n",
       "      <th>Area Id</th>\n",
       "      <th>Beat</th>\n",
       "      <th>Priority</th>\n",
       "      <th>Incident Type Id</th>\n",
       "      <th>Incident Type Description</th>\n",
       "      <th>Event Number</th>\n",
       "      <th>Closed Time</th>\n",
       "      <th>Location 1</th>\n",
       "      <th>Zip Codes</th>\n",
       "    </tr>\n",
       "    <tr>\n",
       "      <th>Agency</th>\n",
       "      <th></th>\n",
       "      <th></th>\n",
       "      <th></th>\n",
       "      <th></th>\n",
       "      <th></th>\n",
       "      <th></th>\n",
       "      <th></th>\n",
       "      <th></th>\n",
       "      <th></th>\n",
       "      <th></th>\n",
       "    </tr>\n",
       "  </thead>\n",
       "  <tbody>\n",
       "    <tr>\n",
       "      <th>OP</th>\n",
       "      <td>2012-01-01T00:00:25.000</td>\n",
       "      <td>2.0</td>\n",
       "      <td>32Y</td>\n",
       "      <td>2.0</td>\n",
       "      <td>415GS</td>\n",
       "      <td>415 GUNSHOTS</td>\n",
       "      <td>LOP120101000004</td>\n",
       "      <td>2012-01-01T00:40:27.000</td>\n",
       "      <td>{'human_address': '{\"address\": \"OLIVE ST\", \"ci...</td>\n",
       "      <td>NaN</td>\n",
       "    </tr>\n",
       "    <tr>\n",
       "      <th>OP</th>\n",
       "      <td>2012-01-01T00:00:27.000</td>\n",
       "      <td>2.0</td>\n",
       "      <td>30Y</td>\n",
       "      <td>2.0</td>\n",
       "      <td>415GS</td>\n",
       "      <td>415 GUNSHOTS</td>\n",
       "      <td>LOP120101000003</td>\n",
       "      <td>2012-01-01T01:34:31.000</td>\n",
       "      <td>{'human_address': '{\"address\": \"AV&amp;MACARTHUR B...</td>\n",
       "      <td>NaN</td>\n",
       "    </tr>\n",
       "    <tr>\n",
       "      <th>OP</th>\n",
       "      <td>2012-01-01T00:00:48.000</td>\n",
       "      <td>1.0</td>\n",
       "      <td>06X</td>\n",
       "      <td>2.0</td>\n",
       "      <td>949</td>\n",
       "      <td>SUSPICIOUS VEHICLE</td>\n",
       "      <td>LOP120101000005</td>\n",
       "      <td>2012-01-01T01:18:38.000</td>\n",
       "      <td>{'human_address': '{\"address\": \"SYCAMORE ST\", ...</td>\n",
       "      <td>NaN</td>\n",
       "    </tr>\n",
       "    <tr>\n",
       "      <th>OP</th>\n",
       "      <td>2012-01-01T00:00:58.000</td>\n",
       "      <td>2.0</td>\n",
       "      <td>35X</td>\n",
       "      <td>2.0</td>\n",
       "      <td>415GS</td>\n",
       "      <td>415 GUNSHOTS</td>\n",
       "      <td>LOP120101000008</td>\n",
       "      <td>2012-01-01T02:37:00.000</td>\n",
       "      <td>{'human_address': '{\"address\": \"AV&amp;MACARTHUR B...</td>\n",
       "      <td>NaN</td>\n",
       "    </tr>\n",
       "    <tr>\n",
       "      <th>OP</th>\n",
       "      <td>2012-01-01T00:01:14.000</td>\n",
       "      <td>1.0</td>\n",
       "      <td>02Y</td>\n",
       "      <td>2.0</td>\n",
       "      <td>415GS</td>\n",
       "      <td>415 GUNSHOTS</td>\n",
       "      <td>LOP120101000007</td>\n",
       "      <td>2012-01-01T02:12:39.000</td>\n",
       "      <td>{'human_address': '{\"address\": \"ST&amp;WOOD ST\", \"...</td>\n",
       "      <td>NaN</td>\n",
       "    </tr>\n",
       "  </tbody>\n",
       "</table>\n",
       "</div>"
      ],
      "text/plain": [
       "                    Create Time  Area Id Beat  Priority Incident Type Id  \\\n",
       "Agency                                                                     \n",
       "OP      2012-01-01T00:00:25.000      2.0  32Y       2.0            415GS   \n",
       "OP      2012-01-01T00:00:27.000      2.0  30Y       2.0            415GS   \n",
       "OP      2012-01-01T00:00:48.000      1.0  06X       2.0              949   \n",
       "OP      2012-01-01T00:00:58.000      2.0  35X       2.0            415GS   \n",
       "OP      2012-01-01T00:01:14.000      1.0  02Y       2.0            415GS   \n",
       "\n",
       "       Incident Type Description     Event Number              Closed Time  \\\n",
       "Agency                                                                       \n",
       "OP                  415 GUNSHOTS  LOP120101000004  2012-01-01T00:40:27.000   \n",
       "OP                  415 GUNSHOTS  LOP120101000003  2012-01-01T01:34:31.000   \n",
       "OP            SUSPICIOUS VEHICLE  LOP120101000005  2012-01-01T01:18:38.000   \n",
       "OP                  415 GUNSHOTS  LOP120101000008  2012-01-01T02:37:00.000   \n",
       "OP                  415 GUNSHOTS  LOP120101000007  2012-01-01T02:12:39.000   \n",
       "\n",
       "                                               Location 1  Zip Codes  \n",
       "Agency                                                                \n",
       "OP      {'human_address': '{\"address\": \"OLIVE ST\", \"ci...        NaN  \n",
       "OP      {'human_address': '{\"address\": \"AV&MACARTHUR B...        NaN  \n",
       "OP      {'human_address': '{\"address\": \"SYCAMORE ST\", ...        NaN  \n",
       "OP      {'human_address': '{\"address\": \"AV&MACARTHUR B...        NaN  \n",
       "OP      {'human_address': '{\"address\": \"ST&WOOD ST\", \"...        NaN  "
      ]
     },
     "execution_count": 1,
     "metadata": {},
     "output_type": "execute_result"
    }
   ],
   "source": [
    "import scipy.stats as stats\n",
    "import pandas as pd\n",
    "import matplotlib.pyplot as plt\n",
    "import pylab\n",
    "import numpy as np\n",
    "from sklearn.linear_model import LinearRegression\n",
    "import statsmodels.api as sm\n",
    "%matplotlib inline\n",
    "\n",
    "\n",
    "df = pd.read_csv('./records-for-2012.csv', index_col=0)\n",
    "df.head()"
   ]
  },
  {
   "cell_type": "markdown",
   "id": "eb85fa92",
   "metadata": {},
   "source": [
    "数据摘要 设置：标称属性Nominal properties和数值属性Numeric properties 标称属性里给出每个可能取值的频数"
   ]
  },
  {
   "cell_type": "code",
   "execution_count": 2,
   "id": "765612bd",
   "metadata": {},
   "outputs": [
    {
     "name": "stdout",
     "output_type": "stream",
     "text": [
      "Nominal properties为: ['Create Time' 'Beat' 'Incident Type Id' 'Incident Type Description'\n",
      " 'Event Number' 'Closed Time' 'Location 1']\n",
      "Create Time\n",
      "2012-01-01T00:00:25.000    1\n",
      "2012-01-01T00:00:27.000    1\n",
      "2012-01-01T00:00:48.000    1\n",
      "2012-01-01T00:00:58.000    1\n",
      "2012-01-01T00:01:14.000    1\n",
      "                          ..\n",
      "2012-12-31T23:50:57.000    1\n",
      "2012-12-31T23:51:39.000    1\n",
      "2012-12-31T23:57:22.000    1\n",
      "2012-12-31T23:57:28.000    1\n",
      "2012-12-31T23:57:50.000    1\n",
      "Length: 186801, dtype: int64\n",
      "Beat\n",
      "01X     2193\n",
      "02X     2798\n",
      "02Y     3043\n",
      "03X     4380\n",
      "03Y     3009\n",
      "04X     8088\n",
      "05X     2681\n",
      "05Y      836\n",
      "06X     4676\n",
      "07X     4235\n",
      "08X     6691\n",
      "09X     3845\n",
      "10X     2961\n",
      "10Y     2727\n",
      "11X     2165\n",
      "12X     2491\n",
      "12Y     3344\n",
      "13X     1212\n",
      "13Y     1898\n",
      "13Z     2946\n",
      "14X     3070\n",
      "14Y     1578\n",
      "15X     2671\n",
      "16X     1197\n",
      "16Y     1680\n",
      "17X     2127\n",
      "17Y     2635\n",
      "18X     1224\n",
      "18Y     1816\n",
      "19X     5158\n",
      "20X     4682\n",
      "21X     2674\n",
      "21Y     3822\n",
      "22X     3131\n",
      "22Y     2725\n",
      "23X     5301\n",
      "24X     2483\n",
      "24Y     2723\n",
      "25X     4396\n",
      "25Y     1512\n",
      "26X     2982\n",
      "26Y     5374\n",
      "27X     3685\n",
      "27Y     3701\n",
      "28X     2321\n",
      "29X     4606\n",
      "30X     4988\n",
      "30Y     5529\n",
      "31X     2482\n",
      "31Y     3975\n",
      "31Z     1849\n",
      "32X     3836\n",
      "32Y     3328\n",
      "33X     3697\n",
      "34X     4965\n",
      "35X     4291\n",
      "35Y     1986\n",
      "PDT2      28\n",
      "dtype: int64\n",
      "Incident Type Id\n",
      "107          1\n",
      "10750A       1\n",
      "10801        8\n",
      "10851     8208\n",
      "10852        5\n",
      "          ... \n",
      "WALKTR     185\n",
      "WATER       92\n",
      "WELCK     2861\n",
      "WIRES       69\n",
      "WIT          4\n",
      "Length: 256, dtype: int64\n",
      "Incident Type Description\n",
      "21235 MOTORSCOOTER        13\n",
      "415 BOYFRIEND           1295\n",
      "415 FAMILY              3708\n",
      "415 FIRE CRACKERS        557\n",
      "415 GUNSHOTS            4483\n",
      "                        ... \n",
      "WATER                     92\n",
      "WELFARE CHECK -- CHE    2861\n",
      "WILLFUL CRUELTY TO C      69\n",
      "WIRES                     69\n",
      "WITNESS                    4\n",
      "Length: 258, dtype: int64\n",
      "Event Number\n",
      "LOP120101000003    1\n",
      "LOP120101000004    1\n",
      "LOP120101000005    1\n",
      "LOP120101000007    1\n",
      "LOP120101000008    1\n",
      "                  ..\n",
      "LOP121231000954    1\n",
      "LOP121231000956    1\n",
      "LOP121231000961    1\n",
      "LOP121231000962    1\n",
      "LOP121231000964    1\n",
      "Length: 187430, dtype: int64\n",
      "Closed Time\n",
      "2012-01-01T00:05:35.000    1\n",
      "2012-01-01T00:20:08.000    1\n",
      "2012-01-01T00:25:10.000    1\n",
      "2012-01-01T00:25:32.000    1\n",
      "2012-01-01T00:32:49.000    2\n",
      "                          ..\n",
      "2013-01-25T02:42:46.000    1\n",
      "2013-02-24T15:06:47.000    1\n",
      "2013-03-22T20:34:46.000    1\n",
      "2013-05-14T20:30:31.000    1\n",
      "2013-07-28T09:50:06.000    1\n",
      "Length: 186874, dtype: int64\n",
      "Location 1\n",
      "{'human_address': '{\"address\": \"# 2027059631\", \"city\": \"\", \"state\": \"\", \"zip\": \"\"}'}                                                                     1\n",
      "{'human_address': '{\"address\": \"# 7203505390\", \"city\": \"\", \"state\": \"\", \"zip\": \"\"}'}                                                                     1\n",
      "{'human_address': '{\"address\": \"& DENNISON ST\", \"city\": \"\", \"state\": \"\", \"zip\": \"\"}'}                                                                    1\n",
      "{'human_address': '{\"address\": \"& OCTAVIA\", \"city\": \"\", \"state\": \"\", \"zip\": \"\"}'}                                                                        1\n",
      "{'human_address': '{\"address\": \"- 2600 BLOCK OF 23RD AV\", \"city\": \"\", \"state\": \"\", \"zip\": \"\"}'}                                                          1\n",
      "                                                                                                                                                        ..\n",
      "{'latitude': '46.088922', 'longitude': '-122.931262', 'human_address': '{\"address\": \"5TH&I80 AV&WALNUT ST\", \"city\": \"\", \"state\": \"\", \"zip\": \"\"}'}        1\n",
      "{'latitude': '47.499488', 'longitude': '-117.569447', 'human_address': '{\"address\": \"1812A 7TH ST\", \"city\": \"\", \"state\": \"\", \"zip\": \"\"}'}                1\n",
      "{'latitude': '47.507691', 'longitude': '-94.901332', 'human_address': '{\"address\": \"4100-4200 PKWY&WILLOW ST\", \"city\": \"\", \"state\": \"\", \"zip\": \"\"}'}     1\n",
      "{'latitude': '48.299915', 'longitude': '-117.704599', 'human_address': '{\"address\": \"2363A RD&INTERNATIONAL B\", \"city\": \"\", \"state\": \"\", \"zip\": \"\"}'}    1\n",
      "{'latitude': '48.951444', 'longitude': '-101.146714', 'human_address': '{\"address\": \"106TH 19TH ST @ 20TH AVE\", \"city\": \"\", \"state\": \"\", \"zip\": \"\"}'}    1\n",
      "Length: 35312, dtype: int64\n"
     ]
    }
   ],
   "source": [
    "nominal_properties = df.select_dtypes(exclude=np.number).columns.values\n",
    "print('Nominal properties为:', nominal_properties)\n",
    "for name in nominal_properties:\n",
    "    print(df.groupby(name).size())"
   ]
  },
  {
   "cell_type": "markdown",
   "id": "d699089d",
   "metadata": {},
   "source": [
    "数值属性，给出5数概括及缺失值的个数"
   ]
  },
  {
   "cell_type": "code",
   "execution_count": 3,
   "id": "1a6c6ee2",
   "metadata": {},
   "outputs": [
    {
     "name": "stdout",
     "output_type": "stream",
     "text": [
      "Numeric properties为: ['Area Id' 'Priority' 'Zip Codes']\n"
     ]
    },
    {
     "data": {
      "text/html": [
       "<div>\n",
       "<style scoped>\n",
       "    .dataframe tbody tr th:only-of-type {\n",
       "        vertical-align: middle;\n",
       "    }\n",
       "\n",
       "    .dataframe tbody tr th {\n",
       "        vertical-align: top;\n",
       "    }\n",
       "\n",
       "    .dataframe thead th {\n",
       "        text-align: right;\n",
       "    }\n",
       "</style>\n",
       "<table border=\"1\" class=\"dataframe\">\n",
       "  <thead>\n",
       "    <tr style=\"text-align: right;\">\n",
       "      <th></th>\n",
       "      <th>Area Id</th>\n",
       "      <th>Priority</th>\n",
       "      <th>Zip Codes</th>\n",
       "    </tr>\n",
       "  </thead>\n",
       "  <tbody>\n",
       "    <tr>\n",
       "      <th>count</th>\n",
       "      <td>186016.000000</td>\n",
       "      <td>187430.000000</td>\n",
       "      <td>175.000000</td>\n",
       "    </tr>\n",
       "    <tr>\n",
       "      <th>mean</th>\n",
       "      <td>1.456751</td>\n",
       "      <td>1.776311</td>\n",
       "      <td>13430.194286</td>\n",
       "    </tr>\n",
       "    <tr>\n",
       "      <th>std</th>\n",
       "      <td>0.498127</td>\n",
       "      <td>0.416717</td>\n",
       "      <td>9517.723061</td>\n",
       "    </tr>\n",
       "    <tr>\n",
       "      <th>min</th>\n",
       "      <td>1.000000</td>\n",
       "      <td>1.000000</td>\n",
       "      <td>170.000000</td>\n",
       "    </tr>\n",
       "    <tr>\n",
       "      <th>25%</th>\n",
       "      <td>1.000000</td>\n",
       "      <td>2.000000</td>\n",
       "      <td>4547.000000</td>\n",
       "    </tr>\n",
       "    <tr>\n",
       "      <th>50%</th>\n",
       "      <td>1.000000</td>\n",
       "      <td>2.000000</td>\n",
       "      <td>13025.000000</td>\n",
       "    </tr>\n",
       "    <tr>\n",
       "      <th>75%</th>\n",
       "      <td>2.000000</td>\n",
       "      <td>2.000000</td>\n",
       "      <td>20663.500000</td>\n",
       "    </tr>\n",
       "    <tr>\n",
       "      <th>max</th>\n",
       "      <td>2.000000</td>\n",
       "      <td>2.000000</td>\n",
       "      <td>33120.000000</td>\n",
       "    </tr>\n",
       "    <tr>\n",
       "      <th>miss</th>\n",
       "      <td>1415.000000</td>\n",
       "      <td>1.000000</td>\n",
       "      <td>187256.000000</td>\n",
       "    </tr>\n",
       "  </tbody>\n",
       "</table>\n",
       "</div>"
      ],
      "text/plain": [
       "             Area Id       Priority      Zip Codes\n",
       "count  186016.000000  187430.000000     175.000000\n",
       "mean        1.456751       1.776311   13430.194286\n",
       "std         0.498127       0.416717    9517.723061\n",
       "min         1.000000       1.000000     170.000000\n",
       "25%         1.000000       2.000000    4547.000000\n",
       "50%         1.000000       2.000000   13025.000000\n",
       "75%         2.000000       2.000000   20663.500000\n",
       "max         2.000000       2.000000   33120.000000\n",
       "miss     1415.000000       1.000000  187256.000000"
      ]
     },
     "execution_count": 3,
     "metadata": {},
     "output_type": "execute_result"
    }
   ],
   "source": [
    "numeric_properties = df.select_dtypes(include=np.number).columns.values\n",
    "print('Numeric properties为:', numeric_properties)\n",
    "describe = df.describe()\n",
    "total = len(df)\n",
    "data = {}\n",
    "for field in describe.columns:\n",
    "    data[field] = total - describe[field]['count']\n",
    "\n",
    "describe = describe.append(pd.Series(data, name='miss'))\n",
    "describe"
   ]
  },
  {
   "cell_type": "markdown",
   "id": "e2af5f88",
   "metadata": {},
   "source": [
    "数据可视化 1.绘制用直方图 由图Priority不符合正态分布"
   ]
  },
  {
   "cell_type": "code",
   "execution_count": 4,
   "id": "298ba093",
   "metadata": {},
   "outputs": [
    {
     "data": {
      "text/plain": [
       "array([[<matplotlib.axes._subplots.AxesSubplot object at 0x0000023D1D345668>,\n",
       "        <matplotlib.axes._subplots.AxesSubplot object at 0x0000023D17161DD8>],\n",
       "       [<matplotlib.axes._subplots.AxesSubplot object at 0x0000023D1717F1D0>,\n",
       "        <matplotlib.axes._subplots.AxesSubplot object at 0x0000023D17196710>]],\n",
       "      dtype=object)"
      ]
     },
     "execution_count": 4,
     "metadata": {},
     "output_type": "execute_result"
    },
    {
     "data": {
      "image/png": "[encoded data removed]",
      "text/plain": [
       "<Figure size 432x288 with 4 Axes>"
      ]
     },
     "metadata": {
      "needs_background": "light"
     },
     "output_type": "display_data"
    }
   ],
   "source": [
    "df.hist()"
   ]
  },
  {
   "cell_type": "markdown",
   "id": "5429b40b",
   "metadata": {},
   "source": [
    "2.绘制盒图"
   ]
  },
  {
   "cell_type": "code",
   "execution_count": 5,
   "id": "660a0efc",
   "metadata": {},
   "outputs": [
    {
     "data": {
      "text/plain": [
       "<matplotlib.axes._subplots.AxesSubplot at 0x23d1720e278>"
      ]
     },
     "execution_count": 5,
     "metadata": {},
     "output_type": "execute_result"
    },
    {
     "data": {
      "image/png": "[encoded data removed]",
      "text/plain": [
       "<Figure size 432x288 with 1 Axes>"
      ]
     },
     "metadata": {
      "needs_background": "light"
     },
     "output_type": "display_data"
    }
   ],
   "source": [
    "df.boxplot('Area Id')"
   ]
  },
  {
   "cell_type": "code",
   "execution_count": 6,
   "id": "db3d3828",
   "metadata": {},
   "outputs": [
    {
     "data": {
      "text/plain": [
       "<matplotlib.axes._subplots.AxesSubplot at 0x23d1725fc88>"
      ]
     },
     "execution_count": 6,
     "metadata": {},
     "output_type": "execute_result"
    },
    {
     "data": {
      "image/png": "[encoded data removed]",
      "text/plain": [
       "<Figure size 432x288 with 1 Axes>"
      ]
     },
     "metadata": {
      "needs_background": "light"
     },
     "output_type": "display_data"
    }
   ],
   "source": [
    "df.boxplot('Priority')"
   ]
  },
  {
   "cell_type": "code",
   "execution_count": 7,
   "id": "6ea75e3d",
   "metadata": {},
   "outputs": [
    {
     "data": {
      "text/plain": [
       "<matplotlib.axes._subplots.AxesSubplot at 0x23d1728bc88>"
      ]
     },
     "execution_count": 7,
     "metadata": {},
     "output_type": "execute_result"
    },
    {
     "data": {
      "image/png": "[encoded data removed]",
      "text/plain": [
       "<Figure size 432x288 with 1 Axes>"
      ]
     },
     "metadata": {
      "needs_background": "light"
     },
     "output_type": "display_data"
    }
   ],
   "source": [
    "df.boxplot('Zip Codes')"
   ]
  },
  {
   "cell_type": "markdown",
   "id": "3884ef93",
   "metadata": {},
   "source": [
    "数据缺失的处理\n",
    "观察数据集中缺失的数据"
   ]
  },
  {
   "cell_type": "code",
   "execution_count": 8,
   "id": "c6963780",
   "metadata": {},
   "outputs": [
    {
     "data": {
      "text/html": [
       "<div>\n",
       "<style scoped>\n",
       "    .dataframe tbody tr th:only-of-type {\n",
       "        vertical-align: middle;\n",
       "    }\n",
       "\n",
       "    .dataframe tbody tr th {\n",
       "        vertical-align: top;\n",
       "    }\n",
       "\n",
       "    .dataframe thead th {\n",
       "        text-align: right;\n",
       "    }\n",
       "</style>\n",
       "<table border=\"1\" class=\"dataframe\">\n",
       "  <thead>\n",
       "    <tr style=\"text-align: right;\">\n",
       "      <th></th>\n",
       "      <th>counts</th>\n",
       "      <th>percent</th>\n",
       "    </tr>\n",
       "  </thead>\n",
       "  <tbody>\n",
       "    <tr>\n",
       "      <th>Area Id</th>\n",
       "      <td>1415</td>\n",
       "      <td>0.007549</td>\n",
       "    </tr>\n",
       "    <tr>\n",
       "      <th>Beat</th>\n",
       "      <td>984</td>\n",
       "      <td>0.005250</td>\n",
       "    </tr>\n",
       "    <tr>\n",
       "      <th>Closed Time</th>\n",
       "      <td>19</td>\n",
       "      <td>0.000101</td>\n",
       "    </tr>\n",
       "    <tr>\n",
       "      <th>Create Time</th>\n",
       "      <td>1</td>\n",
       "      <td>0.000005</td>\n",
       "    </tr>\n",
       "    <tr>\n",
       "      <th>Event Number</th>\n",
       "      <td>1</td>\n",
       "      <td>0.000005</td>\n",
       "    </tr>\n",
       "    <tr>\n",
       "      <th>Incident Type Description</th>\n",
       "      <td>1</td>\n",
       "      <td>0.000005</td>\n",
       "    </tr>\n",
       "    <tr>\n",
       "      <th>Incident Type Id</th>\n",
       "      <td>1</td>\n",
       "      <td>0.000005</td>\n",
       "    </tr>\n",
       "    <tr>\n",
       "      <th>Location 1</th>\n",
       "      <td>70</td>\n",
       "      <td>0.000373</td>\n",
       "    </tr>\n",
       "    <tr>\n",
       "      <th>Priority</th>\n",
       "      <td>1</td>\n",
       "      <td>0.000005</td>\n",
       "    </tr>\n",
       "    <tr>\n",
       "      <th>Zip Codes</th>\n",
       "      <td>187256</td>\n",
       "      <td>0.999066</td>\n",
       "    </tr>\n",
       "  </tbody>\n",
       "</table>\n",
       "</div>"
      ],
      "text/plain": [
       "                           counts   percent\n",
       "Area Id                      1415  0.007549\n",
       "Beat                          984  0.005250\n",
       "Closed Time                    19  0.000101\n",
       "Create Time                     1  0.000005\n",
       "Event Number                    1  0.000005\n",
       "Incident Type Description       1  0.000005\n",
       "Incident Type Id                1  0.000005\n",
       "Location 1                     70  0.000373\n",
       "Priority                        1  0.000005\n",
       "Zip Codes                  187256  0.999066"
      ]
     },
     "execution_count": 8,
     "metadata": {},
     "output_type": "execute_result"
    }
   ],
   "source": [
    "total = len(df)\n",
    "data = {'counts': {}, 'percent': {}}\n",
    "for field in df.columns:\n",
    "    data['counts'][field] = total - df[field].count()\n",
    "    data['percent'][field] = (total - df[field].count())/total\n",
    "pd.DataFrame(data)"
   ]
  },
  {
   "cell_type": "markdown",
   "id": "76986796",
   "metadata": {},
   "source": [
    "缺失原因可能为记录丢失"
   ]
  },
  {
   "cell_type": "markdown",
   "id": "054a97e2",
   "metadata": {},
   "source": [
    "将缺失部分剔除"
   ]
  },
  {
   "cell_type": "code",
   "execution_count": 23,
   "id": "4c17cd17",
   "metadata": {},
   "outputs": [
    {
     "data": {
      "text/plain": [
       "array([[<matplotlib.axes._subplots.AxesSubplot object at 0x0000023D2151E550>]],\n",
       "      dtype=object)"
      ]
     },
     "execution_count": 23,
     "metadata": {},
     "output_type": "execute_result"
    },
    {
     "data": {
      "image/png": "[encoded data removed]",
      "text/plain": [
       "<Figure size 432x288 with 1 Axes>"
      ]
     },
     "metadata": {
      "needs_background": "light"
     },
     "output_type": "display_data"
    },
    {
     "data": {
      "image/png": "[encoded data removed]",
      "text/plain": [
       "<Figure size 432x288 with 1 Axes>"
      ]
     },
     "metadata": {
      "needs_background": "light"
     },
     "output_type": "display_data"
    }
   ],
   "source": [
    "df2= df.dropna(subset=['Zip Codes'])\n",
    "df.hist('Zip Codes')\n",
    "df2.hist('Zip Codes')"
   ]
  },
  {
   "cell_type": "markdown",
   "id": "918cc51a",
   "metadata": {},
   "source": [
    "用最高频率值来填补缺失值"
   ]
  },
  {
   "cell_type": "code",
   "execution_count": 22,
   "id": "273760c4",
   "metadata": {},
   "outputs": [
    {
     "data": {
      "text/plain": [
       "array([[<matplotlib.axes._subplots.AxesSubplot object at 0x0000023D183034E0>]],\n",
       "      dtype=object)"
      ]
     },
     "execution_count": 22,
     "metadata": {},
     "output_type": "execute_result"
    },
    {
     "data": {
      "image/png": "[encoded data removed]",
      "text/plain": [
       "<Figure size 432x288 with 1 Axes>"
      ]
     },
     "metadata": {
      "needs_background": "light"
     },
     "output_type": "display_data"
    },
    {
     "data": {
      "image/png": "[encoded data removed]",
      "text/plain": [
       "<Figure size 432x288 with 1 Axes>"
      ]
     },
     "metadata": {
      "needs_background": "light"
     },
     "output_type": "display_data"
    }
   ],
   "source": [
    "mode = df.mode()['Zip Codes'][0]\n",
    "df2 = df.fillna({'Zip Codes': mode})\n",
    "df.hist('Zip Codes')\n",
    "df2.hist('Zip Codes')"
   ]
  },
  {
   "cell_type": "markdown",
   "id": "32f0c0b8",
   "metadata": {},
   "source": [
    "通过属性的相关关系来填补缺失值"
   ]
  },
  {
   "cell_type": "markdown",
   "id": "490d890a",
   "metadata": {},
   "source": [
    "查看相关度，由图标可知，三个属性之间的关联度很多，所以考虑使用Location 1来填补Area Id"
   ]
  },
  {
   "cell_type": "code",
   "execution_count": 17,
   "id": "e2392926",
   "metadata": {},
   "outputs": [
    {
     "data": {
      "text/html": [
       "<div>\n",
       "<style scoped>\n",
       "    .dataframe tbody tr th:only-of-type {\n",
       "        vertical-align: middle;\n",
       "    }\n",
       "\n",
       "    .dataframe tbody tr th {\n",
       "        vertical-align: top;\n",
       "    }\n",
       "\n",
       "    .dataframe thead th {\n",
       "        text-align: right;\n",
       "    }\n",
       "</style>\n",
       "<table border=\"1\" class=\"dataframe\">\n",
       "  <thead>\n",
       "    <tr style=\"text-align: right;\">\n",
       "      <th></th>\n",
       "      <th>Area Id</th>\n",
       "      <th>Priority</th>\n",
       "      <th>Zip Codes</th>\n",
       "    </tr>\n",
       "  </thead>\n",
       "  <tbody>\n",
       "    <tr>\n",
       "      <th>Area Id</th>\n",
       "      <td>1.000000</td>\n",
       "      <td>-0.038554</td>\n",
       "      <td>0.023045</td>\n",
       "    </tr>\n",
       "    <tr>\n",
       "      <th>Priority</th>\n",
       "      <td>-0.038554</td>\n",
       "      <td>1.000000</td>\n",
       "      <td>0.010370</td>\n",
       "    </tr>\n",
       "    <tr>\n",
       "      <th>Zip Codes</th>\n",
       "      <td>0.023045</td>\n",
       "      <td>0.010370</td>\n",
       "      <td>1.000000</td>\n",
       "    </tr>\n",
       "  </tbody>\n",
       "</table>\n",
       "</div>"
      ],
      "text/plain": [
       "            Area Id  Priority  Zip Codes\n",
       "Area Id    1.000000 -0.038554   0.023045\n",
       "Priority  -0.038554  1.000000   0.010370\n",
       "Zip Codes  0.023045  0.010370   1.000000"
      ]
     },
     "execution_count": 17,
     "metadata": {},
     "output_type": "execute_result"
    }
   ],
   "source": [
    "df.corr()"
   ]
  },
  {
   "cell_type": "code",
   "execution_count": 24,
   "id": "6a25f74e",
   "metadata": {},
   "outputs": [
    {
     "data": {
      "text/html": [
       "<div>\n",
       "<style scoped>\n",
       "    .dataframe tbody tr th:only-of-type {\n",
       "        vertical-align: middle;\n",
       "    }\n",
       "\n",
       "    .dataframe tbody tr th {\n",
       "        vertical-align: top;\n",
       "    }\n",
       "\n",
       "    .dataframe thead th {\n",
       "        text-align: right;\n",
       "    }\n",
       "</style>\n",
       "<table border=\"1\" class=\"dataframe\">\n",
       "  <thead>\n",
       "    <tr style=\"text-align: right;\">\n",
       "      <th></th>\n",
       "      <th>Area Id</th>\n",
       "      <th>Location 1</th>\n",
       "    </tr>\n",
       "    <tr>\n",
       "      <th>Agency</th>\n",
       "      <th></th>\n",
       "      <th></th>\n",
       "    </tr>\n",
       "  </thead>\n",
       "  <tbody>\n",
       "    <tr>\n",
       "      <th>OP</th>\n",
       "      <td>2.0</td>\n",
       "      <td>{'human_address': '{\"address\": \"OLIVE ST\", \"ci...</td>\n",
       "    </tr>\n",
       "    <tr>\n",
       "      <th>OP</th>\n",
       "      <td>2.0</td>\n",
       "      <td>{'human_address': '{\"address\": \"AV&amp;MACARTHUR B...</td>\n",
       "    </tr>\n",
       "    <tr>\n",
       "      <th>OP</th>\n",
       "      <td>1.0</td>\n",
       "      <td>{'human_address': '{\"address\": \"SYCAMORE ST\", ...</td>\n",
       "    </tr>\n",
       "    <tr>\n",
       "      <th>OP</th>\n",
       "      <td>2.0</td>\n",
       "      <td>{'human_address': '{\"address\": \"AV&amp;MACARTHUR B...</td>\n",
       "    </tr>\n",
       "    <tr>\n",
       "      <th>OP</th>\n",
       "      <td>1.0</td>\n",
       "      <td>{'human_address': '{\"address\": \"ST&amp;WOOD ST\", \"...</td>\n",
       "    </tr>\n",
       "    <tr>\n",
       "      <th>OP</th>\n",
       "      <td>2.0</td>\n",
       "      <td>{'human_address': '{\"address\": \"DOUGLAS AV\", \"...</td>\n",
       "    </tr>\n",
       "    <tr>\n",
       "      <th>OP</th>\n",
       "      <td>2.0</td>\n",
       "      <td>{'human_address': '{\"address\": \"AV&amp;D ST\", \"cit...</td>\n",
       "    </tr>\n",
       "    <tr>\n",
       "      <th>OP</th>\n",
       "      <td>1.0</td>\n",
       "      <td>{'human_address': '{\"address\": \"54TH ST\", \"cit...</td>\n",
       "    </tr>\n",
       "    <tr>\n",
       "      <th>OP</th>\n",
       "      <td>2.0</td>\n",
       "      <td>{'human_address': '{\"address\": \"AV&amp;BANCROFT AV...</td>\n",
       "    </tr>\n",
       "    <tr>\n",
       "      <th>OP</th>\n",
       "      <td>2.0</td>\n",
       "      <td>{'human_address': '{\"address\": \"63RD AV\", \"cit...</td>\n",
       "    </tr>\n",
       "  </tbody>\n",
       "</table>\n",
       "</div>"
      ],
      "text/plain": [
       "        Area Id                                         Location 1\n",
       "Agency                                                            \n",
       "OP          2.0  {'human_address': '{\"address\": \"OLIVE ST\", \"ci...\n",
       "OP          2.0  {'human_address': '{\"address\": \"AV&MACARTHUR B...\n",
       "OP          1.0  {'human_address': '{\"address\": \"SYCAMORE ST\", ...\n",
       "OP          2.0  {'human_address': '{\"address\": \"AV&MACARTHUR B...\n",
       "OP          1.0  {'human_address': '{\"address\": \"ST&WOOD ST\", \"...\n",
       "OP          2.0  {'human_address': '{\"address\": \"DOUGLAS AV\", \"...\n",
       "OP          2.0  {'human_address': '{\"address\": \"AV&D ST\", \"cit...\n",
       "OP          1.0  {'human_address': '{\"address\": \"54TH ST\", \"cit...\n",
       "OP          2.0  {'human_address': '{\"address\": \"AV&BANCROFT AV...\n",
       "OP          2.0  {'human_address': '{\"address\": \"63RD AV\", \"cit..."
      ]
     },
     "execution_count": 24,
     "metadata": {},
     "output_type": "execute_result"
    }
   ],
   "source": [
    "data_fill = pd.DataFrame(df, columns=['Area Id', 'Location 1'])\n",
    "data_fill.head(Area Id)"
   ]
  },
  {
   "cell_type": "code",
   "execution_count": 26,
   "id": "672deb05",
   "metadata": {},
   "outputs": [
    {
     "data": {
      "text/plain": [
       "<matplotlib.axes._subplots.AxesSubplot at 0x23d175a8828>"
      ]
     },
     "execution_count": 26,
     "metadata": {},
     "output_type": "execute_result"
    },
    {
     "data": {
      "image/png": "[encoded data removed]",
      "text/plain": [
       "<Figure size 432x288 with 1 Axes>"
      ]
     },
     "metadata": {
      "needs_background": "light"
     },
     "output_type": "display_data"
    }
   ],
   "source": [
    "data_fill['Area Id'].value_counts().head(10).plot.barh()"
   ]
  },
  {
   "cell_type": "code",
   "execution_count": 27,
   "id": "e0564dd2",
   "metadata": {},
   "outputs": [],
   "source": [
    "dict = {}\n",
    "for row in data_fill.iterrows():\n",
    "    dict[row[1]['Location 1']] = row[1]['Area Id']\n",
    "    \n",
    "for row in data_fill.iterrows():\n",
    "    try:\n",
    "        region = dict[row[1]['Location 1']]\n",
    "    except:\n",
    "        continue\n",
    "    row[1]['Area Id'] = region"
   ]
  },
  {
   "cell_type": "code",
   "execution_count": 28,
   "id": "fabbf20a",
   "metadata": {},
   "outputs": [
    {
     "data": {
      "text/plain": [
       "<matplotlib.axes._subplots.AxesSubplot at 0x23d194b0b00>"
      ]
     },
     "execution_count": 28,
     "metadata": {},
     "output_type": "execute_result"
    },
    {
     "data": {
      "image/png": "[encoded data removed]",
      "text/plain": [
       "<Figure size 432x288 with 1 Axes>"
      ]
     },
     "metadata": {
      "needs_background": "light"
     },
     "output_type": "display_data"
    }
   ],
   "source": [
    "data_fill['Location 1'].value_counts().head(10).plot.barh()"
   ]
  },
  {
   "cell_type": "markdown",
   "id": "29d00555",
   "metadata": {},
   "source": [
    "通过数据对象之间的相似性来填补缺失值"
   ]
  },
  {
   "cell_type": "code",
   "execution_count": null,
   "id": "57416230",
   "metadata": {},
   "outputs": [],
   "source": [
    "data_sim  = pd.DataFrame(df, columns=['Area Id', 'Location 1'])\n",
    "data= {}\n",
    "for row in data_sim.iterrows():\n",
    "    if data.get(row[1]['Area Id'], None):\n",
    "        if not pd.isnull(row[1]['Location 1']):\n",
    "            data[row[1]['Area Id']][0] += row[1]['Location 1']\n",
    "            data[row[1]['Area Id']][1] += 1\n",
    "    else:\n",
    "        if not pd.isnull(row[1]['Location 1']):\n",
    "            data[row[1]['Area Id']] = [row[1]['Location 1'], 1]\n",
    "for k in data.keys():\n",
    "    data[k][0] = round(data[k][0] / data[k][1], 4)\n",
    "\n",
    "for row in data_sim.iterrows():\n",
    "    if pd.isnull(row[1]['Location 1']):\n",
    "        try:\n",
    "            row[1]['Location 1'] = data[row[1]['Area Id']][0]\n",
    "        except:\n",
    "            continue\n"
   ]
  },
  {
   "cell_type": "code",
   "execution_count": null,
   "id": "54c5c20e",
   "metadata": {},
   "outputs": [],
   "source": []
  }
 ],
 "metadata": {
  "kernelspec": {
   "display_name": "Python 3",
   "language": "python",
   "name": "python3"
  },
  "language_info": {
   "codemirror_mode": {
    "name": "ipython",
    "version": 3
   },
   "file_extension": ".py",
   "mimetype": "text/x-python",
   "name": "python",
   "nbconvert_exporter": "python",
   "pygments_lexer": "ipython3",
   "version": "3.5.4"
  }
 },
 "nbformat": 4,
 "nbformat_minor": 5
}
