{
 "cells": [
  {
   "cell_type": "code",
   "execution_count": 1,
   "id": "a088111d",
   "metadata": {
    "scrolled": true
   },
   "outputs": [
    {
     "data": {
      "text/html": [
       "<div>\n",
       "<style scoped>\n",
       "    .dataframe tbody tr th:only-of-type {\n",
       "        vertical-align: middle;\n",
       "    }\n",
       "\n",
       "    .dataframe tbody tr th {\n",
       "        vertical-align: top;\n",
       "    }\n",
       "\n",
       "    .dataframe thead th {\n",
       "        text-align: right;\n",
       "    }\n",
       "</style>\n",
       "<table border=\"1\" class=\"dataframe\">\n",
       "  <thead>\n",
       "    <tr style=\"text-align: right;\">\n",
       "      <th></th>\n",
       "      <th>country</th>\n",
       "      <th>description</th>\n",
       "      <th>designation</th>\n",
       "      <th>points</th>\n",
       "      <th>price</th>\n",
       "      <th>province</th>\n",
       "      <th>region_1</th>\n",
       "      <th>region_2</th>\n",
       "      <th>variety</th>\n",
       "      <th>winery</th>\n",
       "    </tr>\n",
       "  </thead>\n",
       "  <tbody>\n",
       "    <tr>\n",
       "      <th>0</th>\n",
       "      <td>US</td>\n",
       "      <td>This tremendous 100% varietal wine hails from ...</td>\n",
       "      <td>Martha's Vineyard</td>\n",
       "      <td>96</td>\n",
       "      <td>235.0</td>\n",
       "      <td>California</td>\n",
       "      <td>Napa Valley</td>\n",
       "      <td>Napa</td>\n",
       "      <td>Cabernet Sauvignon</td>\n",
       "      <td>Heitz</td>\n",
       "    </tr>\n",
       "    <tr>\n",
       "      <th>1</th>\n",
       "      <td>Spain</td>\n",
       "      <td>Ripe aromas of fig, blackberry and cassis are ...</td>\n",
       "      <td>Carodorum Selección Especial Reserva</td>\n",
       "      <td>96</td>\n",
       "      <td>110.0</td>\n",
       "      <td>Northern Spain</td>\n",
       "      <td>Toro</td>\n",
       "      <td>NaN</td>\n",
       "      <td>Tinta de Toro</td>\n",
       "      <td>Bodega Carmen Rodríguez</td>\n",
       "    </tr>\n",
       "    <tr>\n",
       "      <th>2</th>\n",
       "      <td>US</td>\n",
       "      <td>Mac Watson honors the memory of a wine once ma...</td>\n",
       "      <td>Special Selected Late Harvest</td>\n",
       "      <td>96</td>\n",
       "      <td>90.0</td>\n",
       "      <td>California</td>\n",
       "      <td>Knights Valley</td>\n",
       "      <td>Sonoma</td>\n",
       "      <td>Sauvignon Blanc</td>\n",
       "      <td>Macauley</td>\n",
       "    </tr>\n",
       "    <tr>\n",
       "      <th>3</th>\n",
       "      <td>US</td>\n",
       "      <td>This spent 20 months in 30% new French oak, an...</td>\n",
       "      <td>Reserve</td>\n",
       "      <td>96</td>\n",
       "      <td>65.0</td>\n",
       "      <td>Oregon</td>\n",
       "      <td>Willamette Valley</td>\n",
       "      <td>Willamette Valley</td>\n",
       "      <td>Pinot Noir</td>\n",
       "      <td>Ponzi</td>\n",
       "    </tr>\n",
       "    <tr>\n",
       "      <th>4</th>\n",
       "      <td>France</td>\n",
       "      <td>This is the top wine from La Bégude, named aft...</td>\n",
       "      <td>La Brûlade</td>\n",
       "      <td>95</td>\n",
       "      <td>66.0</td>\n",
       "      <td>Provence</td>\n",
       "      <td>Bandol</td>\n",
       "      <td>NaN</td>\n",
       "      <td>Provence red blend</td>\n",
       "      <td>Domaine de la Bégude</td>\n",
       "    </tr>\n",
       "  </tbody>\n",
       "</table>\n",
       "</div>"
      ],
      "text/plain": [
       "  country                                        description  \\\n",
       "0      US  This tremendous 100% varietal wine hails from ...   \n",
       "1   Spain  Ripe aromas of fig, blackberry and cassis are ...   \n",
       "2      US  Mac Watson honors the memory of a wine once ma...   \n",
       "3      US  This spent 20 months in 30% new French oak, an...   \n",
       "4  France  This is the top wine from La Bégude, named aft...   \n",
       "\n",
       "                            designation  points  price        province  \\\n",
       "0                     Martha's Vineyard      96  235.0      California   \n",
       "1  Carodorum Selección Especial Reserva      96  110.0  Northern Spain   \n",
       "2         Special Selected Late Harvest      96   90.0      California   \n",
       "3                               Reserve      96   65.0          Oregon   \n",
       "4                            La Brûlade      95   66.0        Provence   \n",
       "\n",
       "            region_1           region_2             variety  \\\n",
       "0        Napa Valley               Napa  Cabernet Sauvignon   \n",
       "1               Toro                NaN       Tinta de Toro   \n",
       "2     Knights Valley             Sonoma     Sauvignon Blanc   \n",
       "3  Willamette Valley  Willamette Valley          Pinot Noir   \n",
       "4             Bandol                NaN  Provence red blend   \n",
       "\n",
       "                    winery  \n",
       "0                    Heitz  \n",
       "1  Bodega Carmen Rodríguez  \n",
       "2                 Macauley  \n",
       "3                    Ponzi  \n",
       "4     Domaine de la Bégude  "
      ]
     },
     "execution_count": 1,
     "metadata": {},
     "output_type": "execute_result"
    }
   ],
   "source": [
    "import scipy.stats as stats\n",
    "import pandas as pd\n",
    "import matplotlib.pyplot as plt\n",
    "import pylab\n",
    "import numpy as np\n",
    "from sklearn.linear_model import LinearRegression\n",
    "import statsmodels.api as sm\n",
    "%matplotlib inline\n",
    "\n",
    "\n",
    "df = pd.read_csv('./winemag-data_first150k.csv', index_col=0)\n",
    "df.head()"
   ]
  },
  {
   "cell_type": "markdown",
   "id": "c6b0db24",
   "metadata": {},
   "source": [
    "数据摘要\n",
    "设置：标称属性Nominal properties和数值属性Numeric properties\n",
    "标称属性里给出每个可能取值的频数"
   ]
  },
  {
   "cell_type": "code",
   "execution_count": 2,
   "id": "53f49d64",
   "metadata": {},
   "outputs": [
    {
     "name": "stdout",
     "output_type": "stream",
     "text": [
      "Nominal properties为: ['country' 'description' 'designation' 'province' 'region_1' 'region_2'\n",
      " 'variety' 'winery']\n",
      "country\n",
      "Albania                       2\n",
      "Argentina                  5631\n",
      "Australia                  4957\n",
      "Austria                    3057\n",
      "Bosnia and Herzegovina        4\n",
      "Brazil                       25\n",
      "Bulgaria                     77\n",
      "Canada                      196\n",
      "Chile                      5816\n",
      "China                         3\n",
      "Croatia                      89\n",
      "Cyprus                       31\n",
      "Czech Republic                6\n",
      "Egypt                         3\n",
      "England                       9\n",
      "France                    21098\n",
      "Georgia                      43\n",
      "Germany                    2452\n",
      "Greece                      884\n",
      "Hungary                     231\n",
      "India                         8\n",
      "Israel                      630\n",
      "Italy                     23478\n",
      "Japan                         2\n",
      "Lebanon                      37\n",
      "Lithuania                     8\n",
      "Luxembourg                    9\n",
      "Macedonia                    16\n",
      "Mexico                       63\n",
      "Moldova                      71\n",
      "Montenegro                    2\n",
      "Morocco                      12\n",
      "New Zealand                3320\n",
      "Portugal                   5322\n",
      "Romania                     139\n",
      "Serbia                       14\n",
      "Slovakia                      3\n",
      "Slovenia                     94\n",
      "South Africa               2258\n",
      "South Korea                   4\n",
      "Spain                      8268\n",
      "Switzerland                   4\n",
      "Tunisia                       2\n",
      "Turkey                       52\n",
      "US                        62397\n",
      "US-France                     1\n",
      "Ukraine                       5\n",
      "Uruguay                      92\n",
      "dtype: int64\n",
      "description\n",
      "\"Chremisa,\" the ancient name of Krems, is commemorated in this wine that comes from Krems vineyards. It has tight, tangy apple-driven acidity, with a bright, light, citrusy character. Not for aging.                                                                                                                                                                                 1\n",
      "\"New moon on old vines” is the name of this powerful Douro wine made from selected old vines. It's a solid, ripe wine, very textured, complex. It has intense black fruits, laced with acidity, very firmly anchored in a dense character. Age for 3–4 years.                                                                                                                          1\n",
      "$10 for this very drinkable Cab? That's crazy. But Line 39 is exactly that, a concentrated, juicy and fruity Cab with plenty of classic Cab tannins that's an incredibly good value and probably pretty easy to find. Scoop it up when you find it, though note that two bottles were tasted here with some bottle variation.                                                          1\n",
      "$11. Opens with a highly perfumed bouquet of lime, anise and a hint of paraffin. Delicate and fresh apple, lime and stone-fruit flavors follow. Off-beat and slightly lean, but has nice balance.                                                                                                                                                                                      2\n",
      "$14 is a pretty good price for a Chardonnay that shows such ripe, succulent fruit. It's rich in oranges, pineapples, limes and mangoes, brightened with crisp acidity. Entirely unoaked, the finish is dry, pure and clean.                                                                                                                                                            1\n",
      "                                                                                                                                                                                                                                                                                                                                                                                      ..\n",
      "“Whole cluster” refers to the fermentation practice of using intact clusters of grapes, rather than grapes that have been destemmed and crushed. This often results in an earthier, more tannic, spicier wine. This is big, rich and ripe, vast in cherry flavor, yet a little heavy.                                                                                                  2\n",
      "“Wine for Seafood” is a Trebbiano-based wine from Italy that is redolent of mature fruit, cardboard and lemon soda. It's an awkward wine with a sweet and sticky feel and a sour aftertaste.                                                                                                                                                                                           2\n",
      "“Wine for a new world” says the wine's tagline; it offers orange-y, berry aromas and flimsy cranberry-plum flavors. Not structured or deep. Imported by Robant.                                                                                                                                                                                                                        2\n",
      "“Won't cost you an arm and a leg” is Fat Croc's motto. Made in the unoaked, ripe and juicy Australian style, this nicely combines deliciously juicy, tropical fruit flavors with plenty of bracing acid. It avoids the hot, flabby, fake oak flavors that plague most cheap Chardonnays, and gives you a wine that will work better with many foods than a lot of the pricey stuff.    1\n",
      "“Zéro Dosage” means just that; the resulting wine is very dry. It has great crisp, piercing grapefruit freshness, with hints of nuttiness and a lively final acidity. Some bottle age should help tame it.                                                                                                                                                                             1\n",
      "Length: 97821, dtype: int64\n",
      "designation\n",
      "\"M\"                    3\n",
      "#50 Mon Chou           1\n",
      "#SocialSecret          2\n",
      "'72                    1\n",
      "'A Naca Rosso          1\n",
      "                      ..\n",
      "étoile Brut            1\n",
      "ía                     1\n",
      "ía Crianza             1\n",
      "Župska                 2\n",
      "‘Rough Justice' Red    1\n",
      "Length: 30621, dtype: int64\n",
      "province\n",
      "Achaia                     2\n",
      "Aconcagua Costa            5\n",
      "Aconcagua Valley         194\n",
      "Aegean                    16\n",
      "Ahr                        5\n",
      "                        ... \n",
      "Zenata                     8\n",
      "Zitsa                      1\n",
      "Österreichischer Sekt     20\n",
      "Štajerska                 20\n",
      "Župa                      11\n",
      "Length: 455, dtype: int64\n",
      "region_1\n",
      "Abruzzo                 14\n",
      "Adelaida District       25\n",
      "Adelaide                54\n",
      "Adelaide Hills         139\n",
      "Adelaide Plains          4\n",
      "                      ... \n",
      "Yolo County             29\n",
      "York Mountain           33\n",
      "Yorkville Highlands     70\n",
      "Yountville              97\n",
      "Zonda Valley             6\n",
      "Length: 1236, dtype: int64\n",
      "region_2\n",
      "California Other            3516\n",
      "Central Coast              13057\n",
      "Central Valley              1115\n",
      "Columbia Valley             9157\n",
      "Finger Lakes                1510\n",
      "Long Island                  771\n",
      "Mendocino/Lake Counties     2389\n",
      "Napa                        8801\n",
      "Napa-Sonoma                 1645\n",
      "New York Other               147\n",
      "North Coast                  632\n",
      "Oregon Other                 661\n",
      "Sierra Foothills            1660\n",
      "Sonoma                     11258\n",
      "South Coast                  198\n",
      "Southern Oregon              662\n",
      "Washington Other             593\n",
      "Willamette Valley           3181\n",
      "dtype: int64\n",
      "variety\n",
      "Agiorgitiko                120\n",
      "Aglianico                  317\n",
      "Aidani                       1\n",
      "Airen                        6\n",
      "Albana                      17\n",
      "                          ... \n",
      "Zierfandler-Rotgipfler       3\n",
      "Zinfandel                 3799\n",
      "Zlahtina                     4\n",
      "Zweigelt                   219\n",
      "Žilavka                      2\n",
      "Length: 632, dtype: int64\n",
      "winery\n",
      "'37 Cellars           2\n",
      "1+1=3                10\n",
      "10 Knots             16\n",
      "1000 Stories          1\n",
      "1040FU                1\n",
      "                     ..\n",
      "Ñandú                 3\n",
      "Único Luis Miguel     2\n",
      "àMaurice             44\n",
      "áster                 1\n",
      "Štoka                 4\n",
      "Length: 14810, dtype: int64\n"
     ]
    }
   ],
   "source": [
    "nominal_properties = df.select_dtypes(exclude=np.number).columns.values\n",
    "print('Nominal properties为:', nominal_properties)\n",
    "for name in nominal_properties:\n",
    "    print(df.groupby(name).size())"
   ]
  },
  {
   "cell_type": "markdown",
   "id": "ea119343",
   "metadata": {},
   "source": [
    "数值属性，给出5数概括及缺失值的个数"
   ]
  },
  {
   "cell_type": "code",
   "execution_count": 3,
   "id": "dc6b8800",
   "metadata": {},
   "outputs": [
    {
     "name": "stdout",
     "output_type": "stream",
     "text": [
      "Numeric properties为: ['points' 'price']\n"
     ]
    },
    {
     "data": {
      "text/html": [
       "<div>\n",
       "<style scoped>\n",
       "    .dataframe tbody tr th:only-of-type {\n",
       "        vertical-align: middle;\n",
       "    }\n",
       "\n",
       "    .dataframe tbody tr th {\n",
       "        vertical-align: top;\n",
       "    }\n",
       "\n",
       "    .dataframe thead th {\n",
       "        text-align: right;\n",
       "    }\n",
       "</style>\n",
       "<table border=\"1\" class=\"dataframe\">\n",
       "  <thead>\n",
       "    <tr style=\"text-align: right;\">\n",
       "      <th></th>\n",
       "      <th>points</th>\n",
       "      <th>price</th>\n",
       "    </tr>\n",
       "  </thead>\n",
       "  <tbody>\n",
       "    <tr>\n",
       "      <th>count</th>\n",
       "      <td>150930.000000</td>\n",
       "      <td>137235.000000</td>\n",
       "    </tr>\n",
       "    <tr>\n",
       "      <th>mean</th>\n",
       "      <td>87.888418</td>\n",
       "      <td>33.131482</td>\n",
       "    </tr>\n",
       "    <tr>\n",
       "      <th>std</th>\n",
       "      <td>3.222392</td>\n",
       "      <td>36.322536</td>\n",
       "    </tr>\n",
       "    <tr>\n",
       "      <th>min</th>\n",
       "      <td>80.000000</td>\n",
       "      <td>4.000000</td>\n",
       "    </tr>\n",
       "    <tr>\n",
       "      <th>25%</th>\n",
       "      <td>86.000000</td>\n",
       "      <td>16.000000</td>\n",
       "    </tr>\n",
       "    <tr>\n",
       "      <th>50%</th>\n",
       "      <td>88.000000</td>\n",
       "      <td>24.000000</td>\n",
       "    </tr>\n",
       "    <tr>\n",
       "      <th>75%</th>\n",
       "      <td>90.000000</td>\n",
       "      <td>40.000000</td>\n",
       "    </tr>\n",
       "    <tr>\n",
       "      <th>max</th>\n",
       "      <td>100.000000</td>\n",
       "      <td>2300.000000</td>\n",
       "    </tr>\n",
       "    <tr>\n",
       "      <th>miss</th>\n",
       "      <td>0.000000</td>\n",
       "      <td>13695.000000</td>\n",
       "    </tr>\n",
       "  </tbody>\n",
       "</table>\n",
       "</div>"
      ],
      "text/plain": [
       "              points          price\n",
       "count  150930.000000  137235.000000\n",
       "mean       87.888418      33.131482\n",
       "std         3.222392      36.322536\n",
       "min        80.000000       4.000000\n",
       "25%        86.000000      16.000000\n",
       "50%        88.000000      24.000000\n",
       "75%        90.000000      40.000000\n",
       "max       100.000000    2300.000000\n",
       "miss        0.000000   13695.000000"
      ]
     },
     "execution_count": 3,
     "metadata": {},
     "output_type": "execute_result"
    }
   ],
   "source": [
    "numeric_properties = df.select_dtypes(include=np.number).columns.values\n",
    "print('Numeric properties为:', numeric_properties)\n",
    "describe = df.describe()\n",
    "total = len(df)\n",
    "data = {}\n",
    "for field in describe.columns:\n",
    "    data[field] = total - describe[field]['count']\n",
    "\n",
    "describe = describe.append(pd.Series(data, name='miss'))\n",
    "describe"
   ]
  },
  {
   "cell_type": "markdown",
   "id": "fc7db8dc",
   "metadata": {},
   "source": [
    "数据可视化\n",
    "1.绘制用直方图  由图可得points符合正态分布，price不符合正态分布"
   ]
  },
  {
   "cell_type": "code",
   "execution_count": 4,
   "id": "54a61962",
   "metadata": {},
   "outputs": [
    {
     "data": {
      "text/plain": [
       "array([[<matplotlib.axes._subplots.AxesSubplot object at 0x000001A57D6C1FD0>,\n",
       "        <matplotlib.axes._subplots.AxesSubplot object at 0x000001A521697898>]],\n",
       "      dtype=object)"
      ]
     },
     "execution_count": 4,
     "metadata": {},
     "output_type": "execute_result"
    },
    {
     "data": {
      "image/png": "[encoded data removed]",
      "text/plain": [
       "<Figure size 432x288 with 2 Axes>"
      ]
     },
     "metadata": {
      "needs_background": "light"
     },
     "output_type": "display_data"
    }
   ],
   "source": [
    "df.hist()"
   ]
  },
  {
   "cell_type": "markdown",
   "id": "25dd69ea",
   "metadata": {},
   "source": [
    "2.绘制盒图"
   ]
  },
  {
   "cell_type": "code",
   "execution_count": 5,
   "id": "85ab7e52",
   "metadata": {},
   "outputs": [
    {
     "data": {
      "text/plain": [
       "<matplotlib.axes._subplots.AxesSubplot at 0x1a521726ba8>"
      ]
     },
     "execution_count": 5,
     "metadata": {},
     "output_type": "execute_result"
    },
    {
     "data": {
      "image/png": "[encoded data removed]",
      "text/plain": [
       "<Figure size 432x288 with 1 Axes>"
      ]
     },
     "metadata": {
      "needs_background": "light"
     },
     "output_type": "display_data"
    }
   ],
   "source": [
    "df.boxplot('points')"
   ]
  },
  {
   "cell_type": "code",
   "execution_count": 6,
   "id": "2d59cb0d",
   "metadata": {},
   "outputs": [
    {
     "data": {
      "text/plain": [
       "<matplotlib.axes._subplots.AxesSubplot at 0x1a5219fb828>"
      ]
     },
     "execution_count": 6,
     "metadata": {},
     "output_type": "execute_result"
    },
    {
     "data": {
      "image/png": "[encoded data removed]",
      "text/plain": [
       "<Figure size 432x288 with 1 Axes>"
      ]
     },
     "metadata": {
      "needs_background": "light"
     },
     "output_type": "display_data"
    }
   ],
   "source": [
    "df.boxplot('price')"
   ]
  },
  {
   "cell_type": "markdown",
   "id": "9a3564ad",
   "metadata": {},
   "source": [
    "数据缺失的处理\n",
    "观察数据集中缺失的数据"
   ]
  },
  {
   "cell_type": "code",
   "execution_count": 7,
   "id": "4f654974",
   "metadata": {},
   "outputs": [
    {
     "data": {
      "text/html": [
       "<div>\n",
       "<style scoped>\n",
       "    .dataframe tbody tr th:only-of-type {\n",
       "        vertical-align: middle;\n",
       "    }\n",
       "\n",
       "    .dataframe tbody tr th {\n",
       "        vertical-align: top;\n",
       "    }\n",
       "\n",
       "    .dataframe thead th {\n",
       "        text-align: right;\n",
       "    }\n",
       "</style>\n",
       "<table border=\"1\" class=\"dataframe\">\n",
       "  <thead>\n",
       "    <tr style=\"text-align: right;\">\n",
       "      <th></th>\n",
       "      <th>counts</th>\n",
       "      <th>percent</th>\n",
       "    </tr>\n",
       "  </thead>\n",
       "  <tbody>\n",
       "    <tr>\n",
       "      <th>country</th>\n",
       "      <td>5</td>\n",
       "      <td>0.000033</td>\n",
       "    </tr>\n",
       "    <tr>\n",
       "      <th>description</th>\n",
       "      <td>0</td>\n",
       "      <td>0.000000</td>\n",
       "    </tr>\n",
       "    <tr>\n",
       "      <th>designation</th>\n",
       "      <td>45735</td>\n",
       "      <td>0.303021</td>\n",
       "    </tr>\n",
       "    <tr>\n",
       "      <th>points</th>\n",
       "      <td>0</td>\n",
       "      <td>0.000000</td>\n",
       "    </tr>\n",
       "    <tr>\n",
       "      <th>price</th>\n",
       "      <td>13695</td>\n",
       "      <td>0.090737</td>\n",
       "    </tr>\n",
       "    <tr>\n",
       "      <th>province</th>\n",
       "      <td>5</td>\n",
       "      <td>0.000033</td>\n",
       "    </tr>\n",
       "    <tr>\n",
       "      <th>region_1</th>\n",
       "      <td>25060</td>\n",
       "      <td>0.166037</td>\n",
       "    </tr>\n",
       "    <tr>\n",
       "      <th>region_2</th>\n",
       "      <td>89977</td>\n",
       "      <td>0.596151</td>\n",
       "    </tr>\n",
       "    <tr>\n",
       "      <th>variety</th>\n",
       "      <td>0</td>\n",
       "      <td>0.000000</td>\n",
       "    </tr>\n",
       "    <tr>\n",
       "      <th>winery</th>\n",
       "      <td>0</td>\n",
       "      <td>0.000000</td>\n",
       "    </tr>\n",
       "  </tbody>\n",
       "</table>\n",
       "</div>"
      ],
      "text/plain": [
       "             counts   percent\n",
       "country           5  0.000033\n",
       "description       0  0.000000\n",
       "designation   45735  0.303021\n",
       "points            0  0.000000\n",
       "price         13695  0.090737\n",
       "province          5  0.000033\n",
       "region_1      25060  0.166037\n",
       "region_2      89977  0.596151\n",
       "variety           0  0.000000\n",
       "winery            0  0.000000"
      ]
     },
     "execution_count": 7,
     "metadata": {},
     "output_type": "execute_result"
    }
   ],
   "source": [
    "total = len(df)\n",
    "data = {'counts': {}, 'percent': {}}\n",
    "for field in df.columns:\n",
    "    data['counts'][field] = total - df[field].count()\n",
    "    data['percent'][field] = (total - df[field].count())/total\n",
    "pd.DataFrame(data)"
   ]
  },
  {
   "cell_type": "markdown",
   "id": "649de381",
   "metadata": {},
   "source": [
    "country、designation、price、region_1和region_2中缺失部分数据，和地区相关的数据缺失的原因可能是，漏填记录\n",
    "price缺失可能是没有市场价格，漏填"
   ]
  },
  {
   "cell_type": "markdown",
   "id": "b699b200",
   "metadata": {},
   "source": [
    "将缺失部分剔除"
   ]
  },
  {
   "cell_type": "code",
   "execution_count": 8,
   "id": "c4900a17",
   "metadata": {},
   "outputs": [
    {
     "data": {
      "image/png": "[encoded data removed]",
      "text/plain": [
       "<Figure size 432x288 with 4 Axes>"
      ]
     },
     "metadata": {
      "needs_background": "light"
     },
     "output_type": "display_data"
    }
   ],
   "source": [
    "def draw(dataframe, a):\n",
    "    plt.subplot(2, 2, 1+2*a)\n",
    "    dataframe['price'].plot.hist(bins=500, xlim=(0, 300))\n",
    "    plt.subplot(2, 2, 2+2*a)\n",
    "    dataframe.boxplot('price')\n",
    "\n",
    "df2= df.dropna(subset=['price'])\n",
    "draw(df, 0)\n",
    "draw(df2, 1)"
   ]
  },
  {
   "cell_type": "markdown",
   "id": "29bc5541",
   "metadata": {},
   "source": [
    "用最高频率值来填补缺失值"
   ]
  },
  {
   "cell_type": "code",
   "execution_count": 9,
   "id": "8a5eea7c",
   "metadata": {},
   "outputs": [
    {
     "data": {
      "image/png": "[encoded data removed]",
      "text/plain": [
       "<Figure size 432x288 with 4 Axes>"
      ]
     },
     "metadata": {
      "needs_background": "light"
     },
     "output_type": "display_data"
    }
   ],
   "source": [
    "mode = df.mode()['price'][0]\n",
    "df2 = df.fillna({'price': mode})\n",
    "draw(df, 0)\n",
    "draw(df2, 1)"
   ]
  },
  {
   "cell_type": "markdown",
   "id": "8761d52f",
   "metadata": {},
   "source": [
    "通过属性的相关关系来填补缺失值"
   ]
  },
  {
   "cell_type": "code",
   "execution_count": 10,
   "id": "cc8a30c5",
   "metadata": {},
   "outputs": [
    {
     "data": {
      "image/png": "[encoded data removed]",
      "text/plain": [
       "<Figure size 432x288 with 4 Axes>"
      ]
     },
     "metadata": {
      "needs_background": "light"
     },
     "output_type": "display_data"
    }
   ],
   "source": [
    "x = df.corr()\n",
    "points = df['points']\n",
    "price = df['price']\n",
    "model = sm.OLS(price,points).fit()\n",
    "df2 = df\n",
    "for i in range(len(df2)):\n",
    "    if(np.isnan(df2['price'][i])):\n",
    "        df2.loc[i,'price'] = model.predict(df2['points'][i])\n",
    "draw(df, 0)\n",
    "draw(df2, 1)"
   ]
  },
  {
   "cell_type": "markdown",
   "id": "9f4e69e3",
   "metadata": {},
   "source": [
    "通过数据对象之间的相似性来填补缺失值"
   ]
  },
  {
   "cell_type": "code",
   "execution_count": 14,
   "id": "ff2a0014",
   "metadata": {},
   "outputs": [
    {
     "data": {
      "image/png": "[encoded data removed]",
      "text/plain": [
       "<Figure size 432x288 with 4 Axes>"
      ]
     },
     "metadata": {
      "needs_background": "light"
     },
     "output_type": "display_data"
    }
   ],
   "source": [
    "df_sim = df[['price','points']]\n",
    "p = {}\n",
    "for row in df_sim.iterrows():\n",
    "    if p.get(row[1]['points'], None):\n",
    "        if not np.isnan(row[1]['price']):\n",
    "            p[row[1]['points']][0] += row[1]['price']\n",
    "            p[row[1]['points']][1] += 1\n",
    "    else:\n",
    "        if not np.isnan(row[1]['price']):\n",
    "            p[row[1]['points']] = [row[1]['price'], 1]\n",
    "for k in p.keys():\n",
    "    p[k][0] = round(p[k][0] / p[k][1], 4)\n",
    "for i in range(len(df_sim['price'])):\n",
    "    if (np.isnan(df_sim['price'][i])):\n",
    "        da = p[df_sim.loc[i, 'points']][0]\n",
    "        df_sim.loc[i, 'price']  = da\n",
    "draw(df, 0)\n",
    "draw(df_sim, 1)"
   ]
  }
 ],
 "metadata": {
  "kernelspec": {
   "display_name": "Python 3",
   "language": "python",
   "name": "python3"
  },
  "language_info": {
   "codemirror_mode": {
    "name": "ipython",
    "version": 3
   },
   "file_extension": ".py",
   "mimetype": "text/x-python",
   "name": "python",
   "nbconvert_exporter": "python",
   "pygments_lexer": "ipython3",
   "version": "3.5.4"
  }
 },
 "nbformat": 4,
 "nbformat_minor": 5
}
